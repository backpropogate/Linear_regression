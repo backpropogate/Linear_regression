{
 "cells": [
  {
   "cell_type": "code",
   "execution_count": 7,
   "metadata": {},
   "outputs": [
    {
     "name": "stdout",
     "output_type": "stream",
     "text": [
      "[[1400]\n",
      " [1600]\n",
      " [1700]\n",
      " [1805]\n",
      " [1100]\n",
      " [1550]\n",
      " [2350]\n",
      " [2450]\n",
      " [1425]\n",
      " [1700]]\n",
      "[1400, 1600, 1700, 1805, 1100, 1550, 2350, 2450, 1425, 1700]\n",
      "coeffecient \n",
      "  [0.1100701]\n",
      "intercept \n",
      " 98.50027035551747\n",
      "[282.86768672]\n"
     ]
    },
    {
     "data": {
      "image/png": "[encoded data removed]",
      "text/plain": [
       "<Figure size 432x288 with 1 Axes>"
      ]
     },
     "metadata": {},
     "output_type": "display_data"
    }
   ],
   "source": [
    "# import matplotlib.pyplot as plt\n",
    "import numpy as np\n",
    "\n",
    "from sklearn import datasets, linear_model\n",
    "\n",
    "#loading datasets\n",
    "house_price= [245, 312, 279, 308, 199, 219, 405, 324, 319,255]\n",
    "size= [1400, 1600, 1700, 1805,1100, 1550, 2350, 2450, 1425, 1700 ]\n",
    "\n",
    "#Reshape the input\n",
    "sizea= np.array(size).reshape((-1,1))\n",
    "print(sizea)\n",
    "print(size)\n",
    "#store linear model function in regres var\n",
    "regr = linear_model.LinearRegression()\n",
    "#fitting\n",
    "regr.fit(sizea, house_price )\n",
    "print(\"coeffecient \\n \" , regr.coef_)\n",
    "print(\"intercept \\n\", regr.intercept_ )\n",
    "\n",
    "\n",
    "# predict price based on new house size\n",
    "new_size = 1675\n",
    "price = (new_size * regr.coef_) + regr.intercept_\n",
    "#print(price)\n",
    "print(regr.predict([[new_size]]))\n",
    "\n",
    "def graph(formula , x_range):\n",
    "   x= np.array(x_range)\n",
    "   y = eval(formula)\n",
    "   plt.plot(x , y)\n",
    "## Now its time to plot a line \n",
    "# y= mx + b \n",
    "graph(' regr.coef_*x +  regr.intercept_', range(990, 2690))\n",
    "\n",
    "plt.scatter(size , house_price , color = 'red')\n",
    "plt.ylabel('House price')\n",
    "plt.xlabel('House size')\n",
    "plt.show()\n",
    "\n",
    "\n"
   ]
  },
  {
   "cell_type": "code",
   "execution_count": null,
   "metadata": {},
   "outputs": [],
   "source": []
  }
 ],
 "metadata": {
  "kernelspec": {
   "display_name": "Python 3",
   "language": "python",
   "name": "python3"
  },
  "language_info": {
   "codemirror_mode": {
    "name": "ipython",
    "version": 3
   },
   "file_extension": ".py",
   "mimetype": "text/x-python",
   "name": "python",
   "nbconvert_exporter": "python",
   "pygments_lexer": "ipython3",
   "version": "3.6.5"
  }
 },
 "nbformat": 4,
 "nbformat_minor": 2
}
